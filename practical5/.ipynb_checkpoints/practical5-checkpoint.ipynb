{
 "cells": [
  {
   "cell_type": "code",
   "execution_count": 11,
   "metadata": {
    "collapsed": false
   },
   "outputs": [
    {
     "data": {
      "text/plain": [
       "  6.3373\n",
       " -0.9012\n",
       "  1.9173\n",
       "  4.5759\n",
       "  3.7334\n",
       "  7.1499\n",
       "  6.9416\n",
       "  9.6736\n",
       "  5.8503\n",
       " 11.4712\n",
       "[torch.DoubleTensor of size 10]\n",
       "\n"
      ]
     },
     "execution_count": 11,
     "metadata": {},
     "output_type": "execute_result"
    },
    {
     "data": {
      "text/plain": [
       "minibatches processed     10, loss = 337.648896\t\n",
       "minibatches processed     20, loss = 204.333620\t\n"
      ]
     },
     "execution_count": 11,
     "metadata": {},
     "output_type": "execute_result"
    },
    {
     "data": {
      "text/plain": [
       "minibatches processed     30, loss = 123.655915\t\n"
      ]
     },
     "execution_count": 11,
     "metadata": {},
     "output_type": "execute_result"
    },
    {
     "data": {
      "text/plain": [
       "minibatches processed     40, loss = 74.832566\t\n",
       "minibatches processed     50, loss = 45.286336\t\n"
      ]
     },
     "execution_count": 11,
     "metadata": {},
     "output_type": "execute_result"
    },
    {
     "data": {
      "text/plain": [
       "minibatches processed     60, loss = 27.405940\t\n"
      ]
     },
     "execution_count": 11,
     "metadata": {},
     "output_type": "execute_result"
    },
    {
     "data": {
      "text/plain": [
       "minibatches processed     70, loss = 16.585302\t\n"
      ]
     },
     "execution_count": 11,
     "metadata": {},
     "output_type": "execute_result"
    },
    {
     "data": {
      "text/plain": [
       "minibatches processed     80, loss = 10.036991\t\n",
       "minibatches processed     90, loss = 6.074150\t\n"
      ]
     },
     "execution_count": 11,
     "metadata": {},
     "output_type": "execute_result"
    },
    {
     "data": {
      "text/plain": [
       "minibatches processed    100, loss = 3.675951\t\n"
      ]
     },
     "execution_count": 11,
     "metadata": {},
     "output_type": "execute_result"
    },
    {
     "data": {
      "text/plain": [
       "minibatches processed    110, loss = 2.224625\t\n",
       "minibatches processed    120, loss = 1.346318\t\n"
      ]
     },
     "execution_count": 11,
     "metadata": {},
     "output_type": "execute_result"
    },
    {
     "data": {
      "text/plain": [
       "minibatches processed    130, loss = 0.814784\t\n"
      ]
     },
     "execution_count": 11,
     "metadata": {},
     "output_type": "execute_result"
    },
    {
     "data": {
      "text/plain": [
       "minibatches processed    140, loss = 0.493110\t\n",
       "minibatches processed    150, loss = 0.298437\t\n"
      ]
     },
     "execution_count": 11,
     "metadata": {},
     "output_type": "execute_result"
    },
    {
     "data": {
      "text/plain": [
       "minibatches processed    160, loss = 0.180622\t\n"
      ]
     },
     "execution_count": 11,
     "metadata": {},
     "output_type": "execute_result"
    },
    {
     "data": {
      "text/plain": [
       "minibatches processed    170, loss = 0.109320\t\n",
       "minibatches processed    180, loss = 0.066168\t\n"
      ]
     },
     "execution_count": 11,
     "metadata": {},
     "output_type": "execute_result"
    },
    {
     "data": {
      "text/plain": [
       "minibatches processed    190, loss = 0.040051\t\n"
      ]
     },
     "execution_count": 11,
     "metadata": {},
     "output_type": "execute_result"
    },
    {
     "data": {
      "text/plain": [
       "minibatches processed    200, loss = 0.024244\t\n",
       "minibatches processed    210, loss = 0.014677\t\n"
      ]
     },
     "execution_count": 11,
     "metadata": {},
     "output_type": "execute_result"
    },
    {
     "data": {
      "text/plain": [
       "minibatches processed    220, loss = 0.008886\t\n"
      ]
     },
     "execution_count": 11,
     "metadata": {},
     "output_type": "execute_result"
    },
    {
     "data": {
      "text/plain": [
       "minibatches processed    230, loss = 0.005380\t\n",
       "minibatches processed    240, loss = 0.003258\t\n"
      ]
     },
     "execution_count": 11,
     "metadata": {},
     "output_type": "execute_result"
    },
    {
     "data": {
      "text/plain": [
       "minibatches processed    250, loss = 0.001974\t\n"
      ]
     },
     "execution_count": 11,
     "metadata": {},
     "output_type": "execute_result"
    },
    {
     "data": {
      "text/plain": [
       "minibatches processed    260, loss = 0.001196\t\n",
       "minibatches processed    270, loss = 0.000725\t\n"
      ]
     },
     "execution_count": 11,
     "metadata": {},
     "output_type": "execute_result"
    },
    {
     "data": {
      "text/plain": [
       "minibatches processed    280, loss = 0.000439\t\n",
       "minibatches processed    290, loss = 0.000267\t\n",
       "minibatches processed    300, loss = 0.000162\t\n"
      ]
     },
     "execution_count": 11,
     "metadata": {},
     "output_type": "execute_result"
    },
    {
     "data": {
      "text/plain": [
       "minibatches processed    310, loss = 0.000098\t\n",
       "minibatches processed    320, loss = 0.000060\t\n"
      ]
     },
     "execution_count": 11,
     "metadata": {},
     "output_type": "execute_result"
    },
    {
     "data": {
      "text/plain": [
       "minibatches processed    330, loss = 0.000036\t\n",
       "minibatches processed    340, loss = 0.000022\t\n"
      ]
     },
     "execution_count": 11,
     "metadata": {},
     "output_type": "execute_result"
    },
    {
     "data": {
      "text/plain": [
       "minibatches processed    350, loss = 0.000014\t\n",
       "minibatches processed    360, loss = 0.000008\t\n"
      ]
     },
     "execution_count": 11,
     "metadata": {},
     "output_type": "execute_result"
    },
    {
     "data": {
      "text/plain": [
       "minibatches processed    370, loss = 0.000005\t\n"
      ]
     },
     "execution_count": 11,
     "metadata": {},
     "output_type": "execute_result"
    },
    {
     "data": {
      "text/plain": [
       "minibatches processed    380, loss = 0.000003\t\n",
       "minibatches processed    390, loss = 0.000002\t\n"
      ]
     },
     "execution_count": 11,
     "metadata": {},
     "output_type": "execute_result"
    },
    {
     "data": {
      "text/plain": [
       "minibatches processed    400, loss = 0.000001\t\n"
      ]
     },
     "execution_count": 11,
     "metadata": {},
     "output_type": "execute_result"
    },
    {
     "data": {
      "text/plain": [
       "minibatches processed    410, loss = 0.000001\t\n",
       "minibatches processed    420, loss = 0.000001\t\n"
      ]
     },
     "execution_count": 11,
     "metadata": {},
     "output_type": "execute_result"
    },
    {
     "data": {
      "text/plain": [
       "minibatches processed    430, loss = 0.000000\t\n"
      ]
     },
     "execution_count": 11,
     "metadata": {},
     "output_type": "execute_result"
    },
    {
     "data": {
      "text/plain": [
       "minibatches processed    440, loss = 0.000000\t\n",
       "minibatches processed    450, loss = 0.000000\t\n"
      ]
     },
     "execution_count": 11,
     "metadata": {},
     "output_type": "execute_result"
    },
    {
     "data": {
      "text/plain": [
       "minibatches processed    460, loss = 0.000000\t\n"
      ]
     },
     "execution_count": 11,
     "metadata": {},
     "output_type": "execute_result"
    },
    {
     "data": {
      "text/plain": [
       "minibatches processed    470, loss = 0.000000\t\n",
       "minibatches processed    480, loss = 0.000000\t\n"
      ]
     },
     "execution_count": 11,
     "metadata": {},
     "output_type": "execute_result"
    },
    {
     "data": {
      "text/plain": [
       "minibatches processed    490, loss = 0.000000\t\n"
      ]
     },
     "execution_count": 11,
     "metadata": {},
     "output_type": "execute_result"
    },
    {
     "data": {
      "text/plain": [
       "minibatches processed    500, loss = 0.000000\t\n",
       "minibatches processed    510, loss = 0.000000\t\n"
      ]
     },
     "execution_count": 11,
     "metadata": {},
     "output_type": "execute_result"
    },
    {
     "data": {
      "text/plain": [
       "minibatches processed    520, loss = 0.000000\t\n"
      ]
     },
     "execution_count": 11,
     "metadata": {},
     "output_type": "execute_result"
    },
    {
     "data": {
      "text/plain": [
       "minibatches processed    530, loss = 0.000000\t\n",
       "minibatches processed    540, loss = 0.000000\t\n"
      ]
     },
     "execution_count": 11,
     "metadata": {},
     "output_type": "execute_result"
    },
    {
     "data": {
      "text/plain": [
       "minibatches processed    550, loss = 0.000000\t\n"
      ]
     },
     "execution_count": 11,
     "metadata": {},
     "output_type": "execute_result"
    },
    {
     "data": {
      "text/plain": [
       "minibatches processed    560, loss = 0.000000\t\n",
       "minibatches processed    570, loss = 0.000000\t\n",
       "minibatches processed    580, loss = 0.000000\t\n"
      ]
     },
     "execution_count": 11,
     "metadata": {},
     "output_type": "execute_result"
    },
    {
     "data": {
      "text/plain": [
       "minibatches processed    590, loss = 0.000000\t\n",
       "minibatches processed    600, loss = 0.000000\t\n"
      ]
     },
     "execution_count": 11,
     "metadata": {},
     "output_type": "execute_result"
    },
    {
     "data": {
      "text/plain": [
       "minibatches processed    610, loss = 0.000000\t\n",
       "minibatches processed    620, loss = 0.000000\t\n",
       "minibatches processed    630, loss = 0.000000\t\n"
      ]
     },
     "execution_count": 11,
     "metadata": {},
     "output_type": "execute_result"
    },
    {
     "data": {
      "text/plain": [
       "minibatches processed    640, loss = 0.000000\t\n"
      ]
     },
     "execution_count": 11,
     "metadata": {},
     "output_type": "execute_result"
    },
    {
     "data": {
      "text/plain": [
       "minibatches processed    650, loss = 0.000000\t\n",
       "minibatches processed    660, loss = 0.000000\t\n"
      ]
     },
     "execution_count": 11,
     "metadata": {},
     "output_type": "execute_result"
    },
    {
     "data": {
      "text/plain": [
       "minibatches processed    670, loss = 0.000000\t\n"
      ]
     },
     "execution_count": 11,
     "metadata": {},
     "output_type": "execute_result"
    },
    {
     "data": {
      "text/plain": [
       "minibatches processed    680, loss = 0.000000\t\n",
       "minibatches processed    690, loss = 0.000000\t\n"
      ]
     },
     "execution_count": 11,
     "metadata": {},
     "output_type": "execute_result"
    },
    {
     "data": {
      "text/plain": [
       "minibatches processed    700, loss = 0.000000\t\n"
      ]
     },
     "execution_count": 11,
     "metadata": {},
     "output_type": "execute_result"
    },
    {
     "data": {
      "text/plain": [
       "minibatches processed    710, loss = 0.000000\t\n",
       "minibatches processed    720, loss = 0.000000\t\n"
      ]
     },
     "execution_count": 11,
     "metadata": {},
     "output_type": "execute_result"
    },
    {
     "data": {
      "text/plain": [
       "minibatches processed    730, loss = 0.000000\t\n",
       "minibatches processed    740, loss = 0.000000\t\n"
      ]
     },
     "execution_count": 11,
     "metadata": {},
     "output_type": "execute_result"
    },
    {
     "data": {
      "text/plain": [
       "minibatches processed    750, loss = 0.000000\t\n"
      ]
     },
     "execution_count": 11,
     "metadata": {},
     "output_type": "execute_result"
    },
    {
     "data": {
      "text/plain": [
       "minibatches processed    760, loss = 0.000000\t\n",
       "minibatches processed    770, loss = 0.000000\t\n"
      ]
     },
     "execution_count": 11,
     "metadata": {},
     "output_type": "execute_result"
    },
    {
     "data": {
      "text/plain": [
       "minibatches processed    780, loss = 0.000000\t\n"
      ]
     },
     "execution_count": 11,
     "metadata": {},
     "output_type": "execute_result"
    },
    {
     "data": {
      "text/plain": [
       "minibatches processed    790, loss = 0.000000\t\n",
       "minibatches processed    800, loss = 0.000000\t\n"
      ]
     },
     "execution_count": 11,
     "metadata": {},
     "output_type": "execute_result"
    },
    {
     "data": {
      "text/plain": [
       "minibatches processed    810, loss = 0.000000\t\n"
      ]
     },
     "execution_count": 11,
     "metadata": {},
     "output_type": "execute_result"
    },
    {
     "data": {
      "text/plain": [
       "minibatches processed    820, loss = 0.000000\t\n",
       "minibatches processed    830, loss = 0.000000\t\n"
      ]
     },
     "execution_count": 11,
     "metadata": {},
     "output_type": "execute_result"
    },
    {
     "data": {
      "text/plain": [
       "minibatches processed    840, loss = 0.000000\t\n",
       "minibatches processed    850, loss = 0.000000\t\n"
      ]
     },
     "execution_count": 11,
     "metadata": {},
     "output_type": "execute_result"
    },
    {
     "data": {
      "text/plain": [
       "minibatches processed    860, loss = 0.000000\t\n",
       "minibatches processed    870, loss = 0.000000\t\n"
      ]
     },
     "execution_count": 11,
     "metadata": {},
     "output_type": "execute_result"
    },
    {
     "data": {
      "text/plain": [
       "minibatches processed    880, loss = 0.000000\t\n",
       "minibatches processed    890, loss = 0.000000\t\n",
       "minibatches processed    900, loss = 0.000000\t\n"
      ]
     },
     "execution_count": 11,
     "metadata": {},
     "output_type": "execute_result"
    },
    {
     "data": {
      "text/plain": [
       "minibatches processed    910, loss = 0.000000\t\n"
      ]
     },
     "execution_count": 11,
     "metadata": {},
     "output_type": "execute_result"
    },
    {
     "data": {
      "text/plain": [
       "minibatches processed    920, loss = 0.000000\t\n",
       "minibatches processed    930, loss = 0.000000\t\n"
      ]
     },
     "execution_count": 11,
     "metadata": {},
     "output_type": "execute_result"
    },
    {
     "data": {
      "text/plain": [
       "minibatches processed    940, loss = 0.000000\t\n"
      ]
     },
     "execution_count": 11,
     "metadata": {},
     "output_type": "execute_result"
    },
    {
     "data": {
      "text/plain": [
       "minibatches processed    950, loss = 0.000000\t\n",
       "minibatches processed    960, loss = 0.000000\t\n"
      ]
     },
     "execution_count": 11,
     "metadata": {},
     "output_type": "execute_result"
    },
    {
     "data": {
      "text/plain": [
       "minibatches processed    970, loss = 0.000000\t\n",
       "minibatches processed    980, loss = 0.000000\t\n"
      ]
     },
     "execution_count": 11,
     "metadata": {},
     "output_type": "execute_result"
    },
    {
     "data": {
      "text/plain": [
       "minibatches processed    990, loss = 0.000000\t\n"
      ]
     },
     "execution_count": 11,
     "metadata": {},
     "output_type": "execute_result"
    },
    {
     "data": {
      "text/plain": [
       "minibatches processed   1000, loss = 0.000000\t\n",
       "Predictions 12.999952 , True Value     13\t\n",
       "Predictions 11.999960 , True Value     12\t\n",
       "Predictions 32.999879 , True Value     33\t\n",
       "Predictions 41.999847 , True Value     42\t\n",
       "Predictions 50.999815 , True Value     51\t\n",
       "Predictions 15.999960 , True Value     16\t\n",
       "Predictions 16.999960 , True Value     17\t\n",
       "Predictions 17.999960 , True Value     18\t\n",
       "Predictions 18.999960 , True Value     19\t\n",
       "Predictions 19.999960 , True Value     20\t\n"
      ]
     },
     "execution_count": 11,
     "metadata": {},
     "output_type": "execute_result"
    }
   ],
   "source": [
    "require 'nngraph'\n",
    "require 'nn'\n",
    "\n",
    "--z = x_1 + x_2 .* (linear(x3))\n",
    "\n",
    "input1 = nn.Identity()()\n",
    "input2 = nn.Identity()()\n",
    "input3 = nn.Identity()()\n",
    "\n",
    "result = nn.CAddTable()({input1, nn.CMulTable()({input2, nn.Linear(4,10)(input3)})})\n",
    "\n",
    "m = nn.gModule({input1, input2, input3}, {result})\n",
    "\n",
    "a = torch.Tensor{1,2,3,4,5,6,7,8,9,10}\n",
    "b = torch.Tensor{2,2,2,2,2,2,2,2,2,2}\n",
    "c = torch.Tensor{1,2,3,4}\n",
    "\n",
    "target = torch.Tensor{13, 12, 33, 42, 51, 16, 17, 18, 19, 20}\n",
    "\n",
    "result = m:updateOutput({a, b, c})\n",
    "print(result)\n",
    "--graph.dot(m.fg, 'Try NNGraph')\n",
    "\n",
    "local parameters, gradParameters = m:getParameters()\n",
    "\n",
    "criterion = nn.MSECriterion()\n",
    "\n",
    "require 'optim'\n",
    "optimState = {\n",
    "    learningRate = 1e-3,\n",
    "    weightDecay = 1e-4,\n",
    "    momentum = 0,\n",
    "    learningRateDecay = 1e-7\n",
    "  }\n",
    "\n",
    "local feval = function(x)\n",
    "    if x ~= parameters then\n",
    "        parameters:copy(x)\n",
    "    end\n",
    "    \n",
    "    local batch_inputs = {a, b, c}\n",
    "    local batch_targets = target\n",
    "    gradParameters:zero()\n",
    "    \n",
    "    local batch_outputs = m:forward(batch_inputs)\n",
    "    local batch_loss = criterion:forward(batch_outputs, batch_targets)\n",
    "    \n",
    "    local dloss_doutput = criterion:backward(batch_outputs, batch_targets)\n",
    "    \n",
    "    m:backward(batch_inputs, dloss_doutput)\n",
    "    \n",
    "    return batch_loss, gradParameters\n",
    "end \n",
    "\n",
    "local losses = {} \n",
    "local iterations = 1000\n",
    "\n",
    "for i = 1, iterations do \n",
    "    local _, minibatch_loss = optim.sgd(feval, parameters, optimState)\n",
    "    \n",
    "    if i % 10 == 0 then\n",
    "        print(string.format('minibatches processed %6s, loss = %6.6f', i, minibatch_loss[1]))\n",
    "    end\n",
    "end\n",
    "\n",
    "myoutput = m:forward({a, b, c})\n",
    "\n",
    "for i = 1, 10 do \n",
    "    print(string.format(\"Predictions %6.6f , True Value %6d\", myoutput[i], target[i]))\n",
    "end \n",
    "    "
   ]
  },
  {
   "cell_type": "code",
   "execution_count": null,
   "metadata": {
    "collapsed": true
   },
   "outputs": [],
   "source": []
  }
 ],
 "metadata": {
  "kernelspec": {
   "display_name": "iTorch",
   "language": "lua",
   "name": "itorch"
  },
  "language_info": {
   "name": "lua",
   "version": "20100"
  }
 },
 "nbformat": 4,
 "nbformat_minor": 0
}
