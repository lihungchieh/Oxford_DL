{
 "cells": [
  {
   "cell_type": "code",
   "execution_count": 29,
   "metadata": {
    "collapsed": false
   },
   "outputs": [
    {
     "data": {
      "text/plain": [
       " 2\n",
       " 4\n",
       " 6\n",
       "-2\n",
       "-4\n",
       "-6\n",
       "[torch.DoubleTensor of size 6]\n",
       "\n"
      ]
     },
     "execution_count": 29,
     "metadata": {},
     "output_type": "execute_result"
    }
   ],
   "source": [
    "a = torch.Tensor{\n",
    "    1,2,3, -1, -2, -3\n",
    "}\n",
    "print(a * 2)"
   ]
  },
  {
   "cell_type": "code",
   "execution_count": 26,
   "metadata": {
    "collapsed": false
   },
   "outputs": [],
   "source": [
    "temp = torch.gt(a, 0):double()\n",
    "d = temp:cmul(a:cmul(a))\n"
   ]
  },
  {
   "cell_type": "code",
   "execution_count": 27,
   "metadata": {
    "collapsed": false
   },
   "outputs": [
    {
     "data": {
      "text/plain": [
       " 1\n",
       " 4\n",
       " 9\n",
       " 0\n",
       " 0\n",
       " 0\n",
       "[torch.DoubleTensor of size 6]\n",
       "\n"
      ]
     },
     "execution_count": 27,
     "metadata": {},
     "output_type": "execute_result"
    }
   ],
   "source": [
    "print(d)"
   ]
  },
  {
   "cell_type": "code",
   "execution_count": 4,
   "metadata": {
    "collapsed": false
   },
   "outputs": [
    {
     "ename": "/home/hongjie/torch/install/share/lua/5.1/torch/init.lua:102: class nn.ReQU has been already assigned a parent class\n\nstack traceback:\n\t[C]: in function 'newmetatable'\n\t/home/hongjie/torch/install/share/lua/5.1/torch/init.lua:102: in function 'class'\n\t[string \"require 'nn';...\"]:2: in main chunk\n\t[C]: in function 'xpcall'\n\t/home/hongjie/torch/install/share/lua/5.1/itorch/main.lua:179: in function </home/hongjie/torch/install/share/lua/5.1/itorch/main.lua:143>\n\t/home/hongjie/torch/install/share/lua/5.1/lzmq/poller.lua:75: in function 'poll'\n\t...e/hongjie/torch/install/share/lua/5.1/lzmq/impl/loop.lua:307: in function 'poll'\n\t...e/hongjie/torch/install/share/lua/5.1/lzmq/impl/loop.lua:325: in function 'sleep_ex'\n\t...e/hongjie/torch/install/share/lua/5.1/lzmq/impl/loop.lua:370: in function 'start'\n\t/home/hongjie/torch/install/share/lua/5.1/itorch/main.lua:350: in main chunk\n\t[C]: in function 'require'\n\t[string \"arg={'/run/user/1004/jupyter/kernel-536c6c46-...\"]:1: in main chunk",
     "evalue": "",
     "output_type": "error",
     "traceback": [
      "/home/hongjie/torch/install/share/lua/5.1/torch/init.lua:102: class nn.ReQU has been already assigned a parent class\n\nstack traceback:\n\t[C]: in function 'newmetatable'\n\t/home/hongjie/torch/install/share/lua/5.1/torch/init.lua:102: in function 'class'\n\t[string \"require 'nn';...\"]:2: in main chunk\n\t[C]: in function 'xpcall'\n\t/home/hongjie/torch/install/share/lua/5.1/itorch/main.lua:179: in function </home/hongjie/torch/install/share/lua/5.1/itorch/main.lua:143>\n\t/home/hongjie/torch/install/share/lua/5.1/lzmq/poller.lua:75: in function 'poll'\n\t...e/hongjie/torch/install/share/lua/5.1/lzmq/impl/loop.lua:307: in function 'poll'\n\t...e/hongjie/torch/install/share/lua/5.1/lzmq/impl/loop.lua:325: in function 'sleep_ex'\n\t...e/hongjie/torch/install/share/lua/5.1/lzmq/impl/loop.lua:370: in function 'start'\n\t/home/hongjie/torch/install/share/lua/5.1/itorch/main.lua:350: in main chunk\n\t[C]: in function 'require'\n\t[string \"arg={'/run/user/1004/jupyter/kernel-536c6c46-...\"]:1: in main chunk"
     ]
    }
   ],
   "source": [
    "require 'nn';\n",
    "local ReQU = torch.class('nn.ReQU', 'nn.Module')\n",
    "\n",
    "function ReQU:updateOutput(input)\n",
    "    -- TODO\n",
    "    self.output:resizeAs(input):copy(input)\n",
    "    -- ... something here ...\n",
    "    local sign = torch.gt(input, 0):double()\n",
    "    self.output = sign:cmul(input:cmul(input))\n",
    "    return self.output\n",
    "end\n",
    "\n",
    "function ReQU:updateGradInput(input, gradOutput)\n",
    "    -- TODO\n",
    "    self.gradInput:resizeAs(gradOutput):copy(gradOutput)\n",
    "    -- ... something here ...\n",
    "    \n",
    "    return self.gradInput\n",
    "end "
   ]
  },
  {
   "cell_type": "code",
   "execution_count": null,
   "metadata": {
    "collapsed": true
   },
   "outputs": [],
   "source": []
  }
 ],
 "metadata": {
  "kernelspec": {
   "display_name": "iTorch",
   "language": "lua",
   "name": "itorch"
  },
  "language_info": {
   "name": "lua",
   "version": "20100"
  }
 },
 "nbformat": 4,
 "nbformat_minor": 0
}
